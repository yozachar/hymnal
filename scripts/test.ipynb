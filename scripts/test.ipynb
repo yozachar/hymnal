{
 "cells": [
  {
   "cell_type": "code",
   "execution_count": 2,
   "metadata": {},
   "outputs": [
    {
     "name": "stdout",
     "output_type": "stream",
     "text": [
      "1 6 9 4 5\n"
     ]
    }
   ],
   "source": [
    "def my_func(p1: int, p2: int, p3: int = 0, p4: int = 0, p5: int = 0):\n",
    "    print(p1, p2, p3, p4, p5)\n",
    "\n",
    "\n",
    "my_func(1, **{\"p2\": 6, \"p3\": 9}, p4=4, p5=5)\n"
   ]
  }
 ],
 "metadata": {
  "kernelspec": {
   "display_name": ".venv",
   "language": "python",
   "name": "python3"
  },
  "language_info": {
   "codemirror_mode": {
    "name": "ipython",
    "version": 3
   },
   "file_extension": ".py",
   "mimetype": "text/x-python",
   "name": "python",
   "nbconvert_exporter": "python",
   "pygments_lexer": "ipython3",
   "version": "3.11.4"
  },
  "orig_nbformat": 4
 },
 "nbformat": 4,
 "nbformat_minor": 2
}
